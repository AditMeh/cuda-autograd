{
  "nbformat": 4,
  "nbformat_minor": 0,
  "metadata": {
    "colab": {
      "provenance": [],
      "gpuType": "T4",
      "authorship_tag": "ABX9TyPPDshAqxOxP3omZaGUaFwh",
      "include_colab_link": true
    },
    "kernelspec": {
      "name": "python3",
      "display_name": "Python 3"
    },
    "language_info": {
      "name": "python"
    }
  },
  "cells": [
    {
      "cell_type": "markdown",
      "metadata": {
        "id": "view-in-github",
        "colab_type": "text"
      },
      "source": [
        "<a href=\"https://colab.research.google.com/github/AditMeh/cuda-autograd/blob/main/testing_cu.ipynb\" target=\"_parent\"><img src=\"https://colab.research.google.com/assets/colab-badge.svg\" alt=\"Open In Colab\"/></a>"
      ]
    },
    {
      "cell_type": "code",
      "source": [
        "%load_ext nvcc_plugin"
      ],
      "metadata": {
        "colab": {
          "base_uri": "https://localhost:8080/"
        },
        "id": "wb4F-az5Mzrv",
        "outputId": "4257d225-7f9c-40ca-d0b7-500b3b4eac3c"
      },
      "execution_count": 28,
      "outputs": [
        {
          "output_type": "stream",
          "name": "stdout",
          "text": [
            "The nvcc_plugin extension is already loaded. To reload it, use:\n",
            "  %reload_ext nvcc_plugin\n"
          ]
        }
      ]
    },
    {
      "cell_type": "code",
      "source": [
        "%%cu\n",
        "#include <cstdio>\n",
        "#include <iostream>\n",
        "#include <stdio.h>\n",
        "\n",
        "__global__ void matmulkernel(float*vec1, float* vec2, float *result){\n",
        "    int i = threadIdx.x;\n",
        "    result[i] = vec1[i] + vec2[i]; // vec addition\n",
        "}\n",
        "\n",
        "void setrand(float *arr, int len){\n",
        "    for (int i =0; i< len; i++) {\n",
        "        // arr[i] = float((double)rand()/(double)(RAND_MAX/9));\n",
        "        arr[i] = float(rand() % 10);\n",
        "\n",
        "    }\n",
        "}\n",
        "\n",
        "void printvec(float *arr, int len){\n",
        "    printf(\"[\");\n",
        "    for (int i =0; i < len; i++) {\n",
        "        printf(\"%f \", arr[i]);\n",
        "    }\n",
        "    printf(\"]\");\n",
        "\n",
        "    printf(\"\\n\\n\");\n",
        "}\n",
        "int main() {\n",
        "\n",
        "    float* vec1d; float* vec2d; float* resultd; // the d means device\n",
        "    int len = 5;\n",
        "\n",
        "\n",
        "    // Make the first and second vector and put it on the GPU\n",
        "    float vec1[len];\n",
        "    setrand(vec1, len);\n",
        "    cudaMalloc((void **) &vec1d, len * sizeof(float));\n",
        "    cudaMemcpy((void*)vec1d, vec1, len * sizeof(float), cudaMemcpyHostToDevice);\n",
        "\n",
        "    float vec2[len];\n",
        "    setrand(vec2, len);\n",
        "    cudaMalloc((void **) &vec2d, len * sizeof(float));\n",
        "    cudaMemcpy(vec2d, vec2, len * sizeof(float), cudaMemcpyHostToDevice);\n",
        "\n",
        "    printvec(vec1, len);\n",
        "    printvec(vec2, len);\n",
        "\n",
        "\n",
        "    float result[len];\n",
        "    cudaMalloc((void **) &resultd, len * sizeof(float));\n",
        "\n",
        "    dim3 dimBlock(len);\n",
        "    dim3 dimGrid(1);\n",
        "\n",
        "    matmulkernel<<<dimGrid, dimBlock>>>(vec1d, vec2d, resultd);\n",
        "    cudaMemcpy(result, resultd, len * sizeof(float), cudaMemcpyDeviceToHost);\n",
        "\n",
        "    cudaFree(vec1d); cudaFree(vec2d); cudaFree(resultd);\n",
        "\n",
        "    printvec(result, len);\n",
        "    cudaDeviceSynchronize();\n",
        "    return 0;\n",
        "}\n",
        ""
      ],
      "metadata": {
        "colab": {
          "base_uri": "https://localhost:8080/"
        },
        "id": "BoFdCBIaZpHk",
        "outputId": "32ea4b7b-d751-44a3-bbb4-81a2c81993b7"
      },
      "execution_count": 29,
      "outputs": [
        {
          "output_type": "stream",
          "name": "stdout",
          "text": [
            "[3.000000 6.000000 7.000000 5.000000 3.000000 ]\n",
            "\n",
            "[5.000000 6.000000 2.000000 9.000000 1.000000 ]\n",
            "\n",
            "[-456038850857154633913782602039296.000000 0.000000 -0.000001 0.000000 -0.000000 ]\n",
            "\n",
            "\n"
          ]
        }
      ]
    }
  ]
}